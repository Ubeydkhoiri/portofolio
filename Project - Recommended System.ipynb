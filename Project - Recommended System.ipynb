{
 "cells": [
  {
   "cell_type": "markdown",
   "id": "e0f932b4",
   "metadata": {},
   "source": [
    "# Simple Recommender Engine using Weighted Average"
   ]
  },
  {
   "cell_type": "markdown",
   "id": "45f2e830",
   "metadata": {},
   "source": [
    "Simple Recommender Engine menawarkan rekomendasi yang umum untuk semua user berdasarkan popularitas film dan terkadang genre.\n",
    "\n",
    "Ide awal di balik sistem rekomendasi ini adalah sebagai berikut.\n",
    "\n",
    "- Film-film yang lebih populer akan memiliki kemungkinan yang lebih besar untuk disukai juga oleh rata-rata penonton.\n",
    "- Model ini tidak memberikan rekomendasi yang personal untuk setiap tipe user. \n",
    "- Implementasi model ini pun juga bisa dibilang cukup mudah, yang perlu kita lakukan hanyalah mengurutkan film-film tersebut berdasarkan rating dan popularitas dan menunjukkan film teratas dari list film tersebut.\n",
    "\n",
    "Sebagai tambahan, kita dapat menambahkan genre untuk mendapatkan film teratas untuk genre spesifik tersebut"
   ]
  },
  {
   "attachments": {
    "image.png": {
     "image/png": "[encoded data removed]"
    }
   },
   "cell_type": "markdown",
   "id": "8eb76ecd",
   "metadata": {},
   "source": [
    "![image.png](attachment:image.png)\n",
    "\n",
    "dimana,\n",
    "\n",
    "v: jumlah votes untuk film tersebut\n",
    "<br>m: jumlah minimum votes yang dibutuhkan supaya dapat masuk dalam chart\n",
    "<br>R: rata-rata rating dari film tersebut\n",
    "<br>C: rata-rata jumlah votes dari seluruh semesta film"
   ]
  },
  {
   "cell_type": "markdown",
   "id": "60f8f3b2",
   "metadata": {},
   "source": [
    "### Import Library dan File Unloading"
   ]
  },
  {
   "cell_type": "code",
   "execution_count": 1,
   "id": "02359e0a",
   "metadata": {},
   "outputs": [],
   "source": [
    "#import library yang dibutuhkan\n",
    "import pandas as pd\n",
    "import numpy as np\n",
    "pd.set_option('display.max_columns', None)\n",
    "\n",
    "#lakukan pembacaan dataset\n",
    "movie_df = pd.read_csv('https://storage.googleapis.com/dqlab-dataset/title.basics.tsv', sep='\\t') \n",
    "rating_df = pd.read_csv('https://storage.googleapis.com/dqlab-dataset/title.ratings.tsv', sep='\\t') "
   ]
  },
  {
   "cell_type": "code",
   "execution_count": 2,
   "id": "c01c970f",
   "metadata": {},
   "outputs": [],
   "source": [
    "# Setting display columns\n",
    "pd.set_option('display.max_columns', None)"
   ]
  },
  {
   "cell_type": "markdown",
   "id": "173aee4f",
   "metadata": {},
   "source": [
    "# Cleaning Data Movie"
   ]
  },
  {
   "cell_type": "code",
   "execution_count": 3,
   "id": "1d977a76",
   "metadata": {},
   "outputs": [
    {
     "data": {
      "text/html": [
       "<div>\n",
       "<style scoped>\n",
       "    .dataframe tbody tr th:only-of-type {\n",
       "        vertical-align: middle;\n",
       "    }\n",
       "\n",
       "    .dataframe tbody tr th {\n",
       "        vertical-align: top;\n",
       "    }\n",
       "\n",
       "    .dataframe thead th {\n",
       "        text-align: right;\n",
       "    }\n",
       "</style>\n",
       "<table border=\"1\" class=\"dataframe\">\n",
       "  <thead>\n",
       "    <tr style=\"text-align: right;\">\n",
       "      <th></th>\n",
       "      <th>tconst</th>\n",
       "      <th>titleType</th>\n",
       "      <th>primaryTitle</th>\n",
       "      <th>originalTitle</th>\n",
       "      <th>isAdult</th>\n",
       "      <th>startYear</th>\n",
       "      <th>endYear</th>\n",
       "      <th>runtimeMinutes</th>\n",
       "      <th>genres</th>\n",
       "    </tr>\n",
       "  </thead>\n",
       "  <tbody>\n",
       "    <tr>\n",
       "      <th>0</th>\n",
       "      <td>tt0221078</td>\n",
       "      <td>short</td>\n",
       "      <td>Circle Dance, Ute Indians</td>\n",
       "      <td>Circle Dance, Ute Indians</td>\n",
       "      <td>0</td>\n",
       "      <td>1898</td>\n",
       "      <td>\\N</td>\n",
       "      <td>\\N</td>\n",
       "      <td>Documentary,Short</td>\n",
       "    </tr>\n",
       "    <tr>\n",
       "      <th>1</th>\n",
       "      <td>tt8862466</td>\n",
       "      <td>tvEpisode</td>\n",
       "      <td>¡El #TeamOsos va con todo al \"Reality del amor\"!</td>\n",
       "      <td>¡El #TeamOsos va con todo al \"Reality del amor\"!</td>\n",
       "      <td>0</td>\n",
       "      <td>2018</td>\n",
       "      <td>\\N</td>\n",
       "      <td>\\N</td>\n",
       "      <td>Comedy,Drama</td>\n",
       "    </tr>\n",
       "    <tr>\n",
       "      <th>2</th>\n",
       "      <td>tt7157720</td>\n",
       "      <td>tvEpisode</td>\n",
       "      <td>Episode #3.41</td>\n",
       "      <td>Episode #3.41</td>\n",
       "      <td>0</td>\n",
       "      <td>2016</td>\n",
       "      <td>\\N</td>\n",
       "      <td>29</td>\n",
       "      <td>Comedy,Game-Show</td>\n",
       "    </tr>\n",
       "    <tr>\n",
       "      <th>3</th>\n",
       "      <td>tt2974998</td>\n",
       "      <td>tvEpisode</td>\n",
       "      <td>Episode dated 16 May 1987</td>\n",
       "      <td>Episode dated 16 May 1987</td>\n",
       "      <td>0</td>\n",
       "      <td>1987</td>\n",
       "      <td>\\N</td>\n",
       "      <td>\\N</td>\n",
       "      <td>News</td>\n",
       "    </tr>\n",
       "    <tr>\n",
       "      <th>4</th>\n",
       "      <td>tt2903620</td>\n",
       "      <td>tvEpisode</td>\n",
       "      <td>Frances Bavier: Aunt Bee Retires</td>\n",
       "      <td>Frances Bavier: Aunt Bee Retires</td>\n",
       "      <td>0</td>\n",
       "      <td>1973</td>\n",
       "      <td>\\N</td>\n",
       "      <td>\\N</td>\n",
       "      <td>Documentary</td>\n",
       "    </tr>\n",
       "  </tbody>\n",
       "</table>\n",
       "</div>"
      ],
      "text/plain": [
       "      tconst  titleType                                      primaryTitle  \\\n",
       "0  tt0221078      short                         Circle Dance, Ute Indians   \n",
       "1  tt8862466  tvEpisode  ¡El #TeamOsos va con todo al \"Reality del amor\"!   \n",
       "2  tt7157720  tvEpisode                                     Episode #3.41   \n",
       "3  tt2974998  tvEpisode                         Episode dated 16 May 1987   \n",
       "4  tt2903620  tvEpisode                  Frances Bavier: Aunt Bee Retires   \n",
       "\n",
       "                                      originalTitle  isAdult startYear  \\\n",
       "0                         Circle Dance, Ute Indians        0      1898   \n",
       "1  ¡El #TeamOsos va con todo al \"Reality del amor\"!        0      2018   \n",
       "2                                     Episode #3.41        0      2016   \n",
       "3                         Episode dated 16 May 1987        0      1987   \n",
       "4                  Frances Bavier: Aunt Bee Retires        0      1973   \n",
       "\n",
       "  endYear runtimeMinutes             genres  \n",
       "0      \\N             \\N  Documentary,Short  \n",
       "1      \\N             \\N       Comedy,Drama  \n",
       "2      \\N             29   Comedy,Game-Show  \n",
       "3      \\N             \\N               News  \n",
       "4      \\N             \\N        Documentary  "
      ]
     },
     "execution_count": 3,
     "metadata": {},
     "output_type": "execute_result"
    }
   ],
   "source": [
    "# Menampilkan 5 Data Teratas\n",
    "movie_df.head()"
   ]
  },
  {
   "cell_type": "code",
   "execution_count": 4,
   "id": "72f3dfe3",
   "metadata": {},
   "outputs": [
    {
     "name": "stdout",
     "output_type": "stream",
     "text": [
      "<class 'pandas.core.frame.DataFrame'>\n",
      "RangeIndex: 9025 entries, 0 to 9024\n",
      "Data columns (total 9 columns):\n",
      " #   Column          Non-Null Count  Dtype \n",
      "---  ------          --------------  ----- \n",
      " 0   tconst          9025 non-null   object\n",
      " 1   titleType       9025 non-null   object\n",
      " 2   primaryTitle    9011 non-null   object\n",
      " 3   originalTitle   9011 non-null   object\n",
      " 4   isAdult         9025 non-null   int64 \n",
      " 5   startYear       9025 non-null   object\n",
      " 6   endYear         9025 non-null   object\n",
      " 7   runtimeMinutes  9025 non-null   object\n",
      " 8   genres          9014 non-null   object\n",
      "dtypes: int64(1), object(8)\n",
      "memory usage: 634.7+ KB\n"
     ]
    }
   ],
   "source": [
    "movie_df.info()"
   ]
  },
  {
   "cell_type": "code",
   "execution_count": 5,
   "id": "78e0dccc",
   "metadata": {},
   "outputs": [
    {
     "name": "stdout",
     "output_type": "stream",
     "text": [
      "tconst             0\n",
      "titleType          0\n",
      "primaryTitle      14\n",
      "originalTitle     14\n",
      "isAdult            0\n",
      "startYear          0\n",
      "endYear            0\n",
      "runtimeMinutes     0\n",
      "genres            11\n",
      "dtype: int64\n"
     ]
    }
   ],
   "source": [
    "# Melihat Missing Value\n",
    "print(movie_df.isnull().sum())"
   ]
  },
  {
   "cell_type": "code",
   "execution_count": 6,
   "id": "349209b7",
   "metadata": {},
   "outputs": [
    {
     "name": "stdout",
     "output_type": "stream",
     "text": [
      "          tconst  titleType primaryTitle originalTitle  isAdult startYear  \\\n",
      "9000  tt10790040  tvEpisode          NaN           NaN        0      2019   \n",
      "9001  tt10891902  tvEpisode          NaN           NaN        0      2020   \n",
      "9002  tt11737860  tvEpisode          NaN           NaN        0      2020   \n",
      "9003  tt11737862  tvEpisode          NaN           NaN        0      2020   \n",
      "9004  tt11737866  tvEpisode          NaN           NaN        0      2020   \n",
      "9005  tt11737872  tvEpisode          NaN           NaN        0      2020   \n",
      "9006  tt11737874  tvEpisode          NaN           NaN        0      2020   \n",
      "9007   tt1971246  tvEpisode          NaN           NaN        0      2011   \n",
      "9008   tt2067043  tvEpisode          NaN           NaN        0      1965   \n",
      "9009   tt4404732  tvEpisode          NaN           NaN        0      2015   \n",
      "9010   tt5773048  tvEpisode          NaN           NaN        0      2015   \n",
      "9011   tt8473688  tvEpisode          NaN           NaN        0      1987   \n",
      "9012   tt8541336  tvEpisode          NaN           NaN        0      2018   \n",
      "9013   tt9824302  tvEpisode          NaN           NaN        0      2016   \n",
      "\n",
      "     endYear runtimeMinutes                genres  \n",
      "9000      \\N             \\N                    \\N  \n",
      "9001      \\N             \\N                 Crime  \n",
      "9002      \\N             \\N  Comedy,Drama,Romance  \n",
      "9003      \\N             \\N  Comedy,Drama,Romance  \n",
      "9004      \\N             \\N  Comedy,Drama,Romance  \n",
      "9005      \\N             \\N                    \\N  \n",
      "9006      \\N             \\N  Comedy,Drama,Romance  \n",
      "9007      \\N             \\N             Biography  \n",
      "9008      \\N             \\N                 Music  \n",
      "9009      \\N             \\N                Comedy  \n",
      "9010      \\N             \\N             Talk-Show  \n",
      "9011      \\N             \\N                 Drama  \n",
      "9012      \\N             \\N    Reality-TV,Romance  \n",
      "9013      \\N             \\N           Documentary  \n"
     ]
    }
   ],
   "source": [
    "# Mengecek Missing Value pada kolom primaryTitle dan originalTitle\n",
    "print(movie_df.loc[(movie_df['primaryTitle'].isnull()) | (movie_df['originalTitle'].isnull())])"
   ]
  },
  {
   "cell_type": "code",
   "execution_count": 7,
   "id": "e6439813",
   "metadata": {},
   "outputs": [
    {
     "name": "stdout",
     "output_type": "stream",
     "text": [
      "9011\n"
     ]
    }
   ],
   "source": [
    "#mengupdate movie_df dengan membuang data-data bernilai NULL\n",
    "movie_df = movie_df.loc[(movie_df['primaryTitle'].notnull()) & (movie_df['originalTitle'].notnull())]\n",
    "\n",
    "#menampilkan jumlah data setelah data dengan nilai NULL dibuang\n",
    "print(len(movie_df))"
   ]
  },
  {
   "cell_type": "code",
   "execution_count": 8,
   "id": "4fdb6966",
   "metadata": {},
   "outputs": [
    {
     "name": "stdout",
     "output_type": "stream",
     "text": [
      "          tconst  titleType  \\\n",
      "9014  tt10233364  tvEpisode   \n",
      "9015  tt10925142  tvEpisode   \n",
      "9016  tt10970874  tvEpisode   \n",
      "9017  tt11670006  tvEpisode   \n",
      "9018  tt11868642  tvEpisode   \n",
      "9019   tt2347742  tvEpisode   \n",
      "9020   tt3984412  tvEpisode   \n",
      "9021   tt8740950  tvEpisode   \n",
      "9022   tt9822816  tvEpisode   \n",
      "9023   tt9900062  tvEpisode   \n",
      "9024   tt9909210  tvEpisode   \n",
      "\n",
      "                                           primaryTitle originalTitle  \\\n",
      "9014  Rolling in the Deep Dish\\tRolling in the Deep ...             0   \n",
      "9015  The IMDb Show on Location: Star Wars Galaxy's ...             0   \n",
      "9016  Die Bauhaus-Stadt Tel Aviv - Vorbild für die M...             0   \n",
      "9017  ...ein angenehmer Unbequemer...\\t...ein angene...             0   \n",
      "9018  GGN Heavyweight Championship Lungs With Mike T...             0   \n",
      "9019  No sufras por la alergia esta primavera\\tNo su...             0   \n",
      "9020  I'm Not Going to Come Last, I'm Just Going to ...             0   \n",
      "9021  Weight Loss Resolution Restart - Ins & Outs of...             0   \n",
      "9022  Zwischen Vertuschung und Aufklärung - Missbrau...             0   \n",
      "9023  The Direction of Yuu's Love: Hings Aren't Goin...             0   \n",
      "9024  Politik und/oder Moral - Wie weit geht das Ver...             0   \n",
      "\n",
      "      isAdult startYear endYear          runtimeMinutes genres  \n",
      "9014     2019        \\N      \\N              Reality-TV    NaN  \n",
      "9015     2019        \\N      \\N               Talk-Show    NaN  \n",
      "9016     2019        \\N      \\N                      \\N    NaN  \n",
      "9017     1981        \\N      \\N             Documentary    NaN  \n",
      "9018     2020        \\N      \\N               Talk-Show    NaN  \n",
      "9019     2004        \\N      \\N                      \\N    NaN  \n",
      "9020     2014        \\N      \\N              Reality-TV    NaN  \n",
      "9021     2015        \\N      \\N              Reality-TV    NaN  \n",
      "9022     2019        \\N      \\N                      \\N    NaN  \n",
      "9023     1994        \\N      \\N  Animation,Comedy,Drama    NaN  \n",
      "9024     2005        \\N      \\N                      \\N    NaN  \n"
     ]
    }
   ],
   "source": [
    "print(movie_df.loc[movie_df['genres'].isnull()])"
   ]
  },
  {
   "cell_type": "code",
   "execution_count": 9,
   "id": "71d092b7",
   "metadata": {},
   "outputs": [
    {
     "name": "stdout",
     "output_type": "stream",
     "text": [
      "9000\n"
     ]
    }
   ],
   "source": [
    "#mengupdate movie_df dengan membuang data-data bernilai NULL\n",
    "movie_df = movie_df.loc[movie_df['genres'].notnull()]\n",
    "\n",
    "#menampilkan jumlah data setelah data dengan nilai NULL dibuang\n",
    "print(len(movie_df))"
   ]
  },
  {
   "cell_type": "code",
   "execution_count": 10,
   "id": "e7172a9d",
   "metadata": {},
   "outputs": [
    {
     "name": "stdout",
     "output_type": "stream",
     "text": [
      "[1898. 2018. 2016. 1987. 1973.]\n"
     ]
    }
   ],
   "source": [
    "#mengubah nilai '\\\\N' pada startYear menjadi np.nan dan cast kolomnya menjadi float64\n",
    "movie_df['startYear'] = movie_df['startYear'].replace('\\\\N', np.nan)\n",
    "movie_df['startYear'] = movie_df['startYear'].astype('float64')\n",
    "print(movie_df['startYear'].unique()[:5])"
   ]
  },
  {
   "cell_type": "code",
   "execution_count": 11,
   "id": "2dc530ea",
   "metadata": {},
   "outputs": [
    {
     "name": "stdout",
     "output_type": "stream",
     "text": [
      "[  nan 2005. 1955. 2006. 1999.]\n"
     ]
    }
   ],
   "source": [
    "#mengubah nilai '\\\\N' pada endYear menjadi np.nan dan cast kolomnya menjadi float64\n",
    "movie_df['endYear'] = movie_df['endYear'].replace('\\\\N', np.nan)\n",
    "movie_df['endYear'] = movie_df['endYear'].astype('float64')\n",
    "print(movie_df['endYear'].unique()[:5])"
   ]
  },
  {
   "cell_type": "code",
   "execution_count": 12,
   "id": "171b5712",
   "metadata": {},
   "outputs": [
    {
     "name": "stdout",
     "output_type": "stream",
     "text": [
      "[nan 29.  7. 23. 85.]\n"
     ]
    }
   ],
   "source": [
    "#mengubah nilai '\\\\N' pada runtimeMinutes menjadi np.nan dan cast kolomnya menjadi float64\n",
    "movie_df['runtimeMinutes'] = movie_df['runtimeMinutes'].replace('\\\\N', np.nan)\n",
    "movie_df['runtimeMinutes'] = movie_df['runtimeMinutes'].astype('float64')\n",
    "print(movie_df['runtimeMinutes'].unique()[:5])"
   ]
  },
  {
   "cell_type": "markdown",
   "id": "d0d2fbf9",
   "metadata": {},
   "source": [
    "# Cleaning Data Rating"
   ]
  },
  {
   "cell_type": "code",
   "execution_count": 13,
   "id": "7376cc98",
   "metadata": {},
   "outputs": [
    {
     "data": {
      "text/html": [
       "<div>\n",
       "<style scoped>\n",
       "    .dataframe tbody tr th:only-of-type {\n",
       "        vertical-align: middle;\n",
       "    }\n",
       "\n",
       "    .dataframe tbody tr th {\n",
       "        vertical-align: top;\n",
       "    }\n",
       "\n",
       "    .dataframe thead th {\n",
       "        text-align: right;\n",
       "    }\n",
       "</style>\n",
       "<table border=\"1\" class=\"dataframe\">\n",
       "  <thead>\n",
       "    <tr style=\"text-align: right;\">\n",
       "      <th></th>\n",
       "      <th>tconst</th>\n",
       "      <th>averageRating</th>\n",
       "      <th>numVotes</th>\n",
       "    </tr>\n",
       "  </thead>\n",
       "  <tbody>\n",
       "    <tr>\n",
       "      <th>0</th>\n",
       "      <td>tt0000001</td>\n",
       "      <td>5.6</td>\n",
       "      <td>1608</td>\n",
       "    </tr>\n",
       "    <tr>\n",
       "      <th>1</th>\n",
       "      <td>tt0000002</td>\n",
       "      <td>6.0</td>\n",
       "      <td>197</td>\n",
       "    </tr>\n",
       "    <tr>\n",
       "      <th>2</th>\n",
       "      <td>tt0000003</td>\n",
       "      <td>6.5</td>\n",
       "      <td>1285</td>\n",
       "    </tr>\n",
       "    <tr>\n",
       "      <th>3</th>\n",
       "      <td>tt0000004</td>\n",
       "      <td>6.1</td>\n",
       "      <td>121</td>\n",
       "    </tr>\n",
       "    <tr>\n",
       "      <th>4</th>\n",
       "      <td>tt0000005</td>\n",
       "      <td>6.1</td>\n",
       "      <td>2050</td>\n",
       "    </tr>\n",
       "  </tbody>\n",
       "</table>\n",
       "</div>"
      ],
      "text/plain": [
       "      tconst  averageRating  numVotes\n",
       "0  tt0000001            5.6      1608\n",
       "1  tt0000002            6.0       197\n",
       "2  tt0000003            6.5      1285\n",
       "3  tt0000004            6.1       121\n",
       "4  tt0000005            6.1      2050"
      ]
     },
     "execution_count": 13,
     "metadata": {},
     "output_type": "execute_result"
    }
   ],
   "source": [
    "# Menampilkan 5 Data Teratas\n",
    "rating_df.head()"
   ]
  },
  {
   "cell_type": "code",
   "execution_count": 14,
   "id": "e97338ea",
   "metadata": {},
   "outputs": [
    {
     "name": "stdout",
     "output_type": "stream",
     "text": [
      "<class 'pandas.core.frame.DataFrame'>\n",
      "RangeIndex: 1030009 entries, 0 to 1030008\n",
      "Data columns (total 3 columns):\n",
      " #   Column         Non-Null Count    Dtype  \n",
      "---  ------         --------------    -----  \n",
      " 0   tconst         1030009 non-null  object \n",
      " 1   averageRating  1030009 non-null  float64\n",
      " 2   numVotes       1030009 non-null  int64  \n",
      "dtypes: float64(1), int64(1), object(1)\n",
      "memory usage: 23.6+ MB\n"
     ]
    }
   ],
   "source": [
    "rating_df.info()"
   ]
  },
  {
   "cell_type": "markdown",
   "id": "b1d7a98b",
   "metadata": {},
   "source": [
    "### Inner Join table movie dan table rating"
   ]
  },
  {
   "cell_type": "code",
   "execution_count": 15,
   "id": "fbee99fd",
   "metadata": {},
   "outputs": [],
   "source": [
    "def transform_to_list(x):\n",
    "    if ',' in x: \n",
    "        return x.split(',')\n",
    "    else: \n",
    "        return []\n",
    "\n",
    "movie_df['genres'] = movie_df['genres'].apply(lambda x: transform_to_list(x))\n",
    "\n",
    "# Melakukan Inner Join dengan Fungsi .merge()\n",
    "movie_rating_df = pd.merge(movie_df, rating_df, on='tconst', how='inner')"
   ]
  },
  {
   "cell_type": "code",
   "execution_count": 16,
   "id": "5087760f",
   "metadata": {},
   "outputs": [
    {
     "name": "stdout",
     "output_type": "stream",
     "text": [
      "      tconst  titleType              primaryTitle             originalTitle  \\\n",
      "0  tt0043745      short                 Lion Down                 Lion Down   \n",
      "1  tt0167491      video         Wicked Covergirls         Wicked Covergirls   \n",
      "2  tt6574096  tvEpisode      Shadow Play - Part 2      Shadow Play - Part 2   \n",
      "3  tt6941700  tvEpisode              RuPaul Roast              RuPaul Roast   \n",
      "4  tt7305674      video  UCLA Track & Field Promo  UCLA Track & Field Promo   \n",
      "\n",
      "   isAdult  startYear  endYear  runtimeMinutes  \\\n",
      "0        0     1951.0      NaN             7.0   \n",
      "1        1     1998.0      NaN            85.0   \n",
      "2        0     2017.0      NaN            22.0   \n",
      "3        0     2017.0      NaN             NaN   \n",
      "4        0     2017.0      NaN             NaN   \n",
      "\n",
      "                           genres  averageRating  numVotes  \n",
      "0     [Animation, Comedy, Family]            7.1       459  \n",
      "1                              []            5.7         7  \n",
      "2  [Adventure, Animation, Comedy]            8.5       240  \n",
      "3                              []            8.0        11  \n",
      "4                  [Short, Sport]            9.7         7  \n",
      "<class 'pandas.core.frame.DataFrame'>\n",
      "Int64Index: 1376 entries, 0 to 1375\n",
      "Data columns (total 11 columns):\n",
      " #   Column          Non-Null Count  Dtype  \n",
      "---  ------          --------------  -----  \n",
      " 0   tconst          1376 non-null   object \n",
      " 1   titleType       1376 non-null   object \n",
      " 2   primaryTitle    1376 non-null   object \n",
      " 3   originalTitle   1376 non-null   object \n",
      " 4   isAdult         1376 non-null   int64  \n",
      " 5   startYear       1376 non-null   float64\n",
      " 6   endYear         26 non-null     float64\n",
      " 7   runtimeMinutes  1004 non-null   float64\n",
      " 8   genres          1376 non-null   object \n",
      " 9   averageRating   1376 non-null   float64\n",
      " 10  numVotes        1376 non-null   int64  \n",
      "dtypes: float64(4), int64(2), object(5)\n",
      "memory usage: 129.0+ KB\n",
      "None\n"
     ]
    }
   ],
   "source": [
    "print(movie_rating_df.head())\n",
    "print(movie_rating_df.info())"
   ]
  },
  {
   "cell_type": "code",
   "execution_count": 17,
   "id": "5e3bab0d",
   "metadata": {},
   "outputs": [
    {
     "data": {
      "text/plain": [
       "['kjjdsdc', 'sadasf', 'fs']"
      ]
     },
     "execution_count": 17,
     "metadata": {},
     "output_type": "execute_result"
    }
   ],
   "source": [
    "x = \"kjjdsdc,sadasf,fs\"\n",
    "x.split(',')"
   ]
  },
  {
   "cell_type": "markdown",
   "id": "5be5d453",
   "metadata": {},
   "source": [
    "### Building Simple Recommender System"
   ]
  },
  {
   "cell_type": "code",
   "execution_count": 18,
   "id": "6ee159f1",
   "metadata": {},
   "outputs": [
    {
     "name": "stdout",
     "output_type": "stream",
     "text": [
      "6.869840116279075\n"
     ]
    }
   ],
   "source": [
    "# Mencari nilai C\n",
    "C = movie_rating_df['averageRating'].mean()\n",
    "print(C)"
   ]
  },
  {
   "cell_type": "code",
   "execution_count": 19,
   "id": "2447e71e",
   "metadata": {},
   "outputs": [
    {
     "name": "stdout",
     "output_type": "stream",
     "text": [
      "136.0\n"
     ]
    }
   ],
   "source": [
    "# Mencari nilai m\n",
    "m = movie_rating_df['numVotes'].quantile(0.8)\n",
    "print(m)"
   ]
  },
  {
   "cell_type": "code",
   "execution_count": 20,
   "id": "ce694d18",
   "metadata": {},
   "outputs": [
    {
     "name": "stdout",
     "output_type": "stream",
     "text": [
      "      tconst  titleType              primaryTitle             originalTitle  \\\n",
      "0  tt0043745      short                 Lion Down                 Lion Down   \n",
      "1  tt0167491      video         Wicked Covergirls         Wicked Covergirls   \n",
      "2  tt6574096  tvEpisode      Shadow Play - Part 2      Shadow Play - Part 2   \n",
      "3  tt6941700  tvEpisode              RuPaul Roast              RuPaul Roast   \n",
      "4  tt7305674      video  UCLA Track & Field Promo  UCLA Track & Field Promo   \n",
      "\n",
      "   isAdult  startYear  endYear  runtimeMinutes  \\\n",
      "0        0     1951.0      NaN             7.0   \n",
      "1        1     1998.0      NaN            85.0   \n",
      "2        0     2017.0      NaN            22.0   \n",
      "3        0     2017.0      NaN             NaN   \n",
      "4        0     2017.0      NaN             NaN   \n",
      "\n",
      "                           genres  averageRating  numVotes     score  \n",
      "0     [Animation, Comedy, Family]            7.1       459  7.047392  \n",
      "1                              []            5.7         7  6.812575  \n",
      "2  [Adventure, Animation, Comedy]            8.5       240  7.910368  \n",
      "3                              []            8.0        11  6.954410  \n",
      "4                  [Short, Sport]            9.7         7  7.008379  \n"
     ]
    }
   ],
   "source": [
    "# Membuat Function untuk Mencari Nilai Score\n",
    "\n",
    "def imdb_weighted_rating(df, var=0.8):\n",
    "    v = df['numVotes']\n",
    "    R = df['averageRating']\n",
    "    C = df['averageRating'].mean()\n",
    "    m = df['numVotes'].quantile(var)\n",
    "    df['score'] = (v/(m+v))*R+(m/(m+v))*C #Rumus IMDb \n",
    "    return df['score']\n",
    "    \n",
    "imdb_weighted_rating(movie_rating_df)\n",
    "\n",
    "#melakukan pengecekan dataframe\n",
    "print(movie_rating_df.head())"
   ]
  },
  {
   "cell_type": "code",
   "execution_count": 21,
   "id": "a8960a63",
   "metadata": {},
   "outputs": [
    {
     "name": "stdout",
     "output_type": "stream",
     "text": [
      "         tconst  titleType                                   primaryTitle  \\\n",
      "68    tt4110822  tvEpisode                                  S.O.S. Part 2   \n",
      "1150  tt5807780  videoGame                                     Spider-Man   \n",
      "236   tt2200252      video                    Attack of the Clones Review   \n",
      "1181  tt7697962  tvEpisode            Chapter Seventeen: The Missionaries   \n",
      "326   tt7124590  tvEpisode            Chapter Thirty-Four: Judgment Night   \n",
      "71    tt8399426  tvEpisode                                        Savages   \n",
      "1045  tt0533506  tvEpisode                                       The Prom   \n",
      "1234  tt2843830  tvEpisode                                          VIII.   \n",
      "1087  tt4295140   tvSeries                                   Chef's Table   \n",
      "1054  tt2503932  tvEpisode                                Trial and Error   \n",
      "448   tt0337566      video                       AC/DC: Live at Donington   \n",
      "189   tt5661506      video            Florence + the Machine: The Odyssey   \n",
      "624   tt0620159  tvEpisode                                     Strike Out   \n",
      "973   tt0340374  videoGame                                  Splinter Cell   \n",
      "1281  tt3166390  tvEpisode                         Looking for a Plus-One   \n",
      "49    tt9119838  tvEpisode                      Parisian Legend Has It...   \n",
      "151   tt3954426  tvEpisode                                Bleeding Kansas   \n",
      "357   tt4084774  tvEpisode                           Trial and Punishment   \n",
      "1217  tt3642464  tvEpisode                                    Giant Woman   \n",
      "1344  tt6644294  tvEpisode                 The Hostile Hospital: Part Two   \n",
      "314   tt0954759  tvEpisode                                   Ben Franklin   \n",
      "1242  tt3677742  tvSpecial  Saturday Night Live: 40th Anniversary Special   \n",
      "790   tt4279086  tvEpisode                       And Santa's Midnight Run   \n",
      "544   tt0734655  tvEpisode                              The Little People   \n",
      "983   tt5063116  tvEpisode                                          Shell   \n",
      "\n",
      "                                      originalTitle  isAdult  startYear  \\\n",
      "68                                    S.O.S. Part 2        0     2015.0   \n",
      "1150                                     Spider-Man        0     2018.0   \n",
      "236                     Attack of the Clones Review        0     2010.0   \n",
      "1181            Chapter Seventeen: The Missionaries        0     2019.0   \n",
      "326             Chapter Thirty-Four: Judgment Night        0     2018.0   \n",
      "71                                          Savages        0     2018.0   \n",
      "1045                                       The Prom        0     1999.0   \n",
      "1234                                          VIII.        0     2014.0   \n",
      "1087                                   Chef's Table        0     2015.0   \n",
      "1054                                Trial and Error        0     2013.0   \n",
      "448                        AC/DC: Live at Donington        0     1992.0   \n",
      "189             Florence + the Machine: The Odyssey        0     2016.0   \n",
      "624                                      Strike Out        0     2000.0   \n",
      "973                                   Splinter Cell        0     2002.0   \n",
      "1281                         Looking for a Plus-One        0     2014.0   \n",
      "49                        Parisian Legend Has It...        0     2019.0   \n",
      "151                                 Bleeding Kansas        0     2014.0   \n",
      "357                            Trial and Punishment        0     2015.0   \n",
      "1217                                    Giant Woman        0     2014.0   \n",
      "1344                 The Hostile Hospital: Part Two        0     2018.0   \n",
      "314                                    Ben Franklin        0     2007.0   \n",
      "1242  Saturday Night Live: 40th Anniversary Special        0     2015.0   \n",
      "790                        And Santa's Midnight Run        0     2014.0   \n",
      "544                               The Little People        0     1962.0   \n",
      "983                                           Shell        0     2016.0   \n",
      "\n",
      "      endYear  runtimeMinutes                          genres  averageRating  \\\n",
      "68        NaN            43.0      [Action, Adventure, Drama]            9.4   \n",
      "1150      NaN             NaN    [Action, Adventure, Fantasy]            9.3   \n",
      "236       NaN            86.0                              []            9.3   \n",
      "1181      NaN            54.0        [Drama, Fantasy, Horror]            9.2   \n",
      "326       NaN            42.0         [Crime, Drama, Mystery]            9.1   \n",
      "71        NaN            58.0       [Drama, Fantasy, Romance]            9.0   \n",
      "1045      NaN            60.0        [Action, Drama, Fantasy]            8.9   \n",
      "1234      NaN            57.0              [Adventure, Drama]            8.9   \n",
      "1087      NaN            50.0                              []            8.6   \n",
      "1054      NaN            43.0        [Drama, Fantasy, Horror]            8.6   \n",
      "448       NaN           120.0            [Documentary, Music]            8.5   \n",
      "189       NaN            49.0                              []            8.8   \n",
      "624       NaN            30.0                              []            8.7   \n",
      "973       NaN             NaN   [Action, Adventure, Thriller]            8.3   \n",
      "1281      NaN            28.0        [Comedy, Drama, Romance]            8.7   \n",
      "49        NaN            42.0                              []            8.9   \n",
      "151       NaN            42.0                [Drama, Western]            8.6   \n",
      "357       NaN            56.0              [Adventure, Drama]            8.8   \n",
      "1217      NaN            11.0  [Adventure, Animation, Comedy]            8.4   \n",
      "1344      NaN            40.0      [Adventure, Comedy, Drama]            8.3   \n",
      "314       NaN            21.0                              []            8.1   \n",
      "1242      NaN           106.0                              []            8.1   \n",
      "790       NaN            42.0     [Action, Adventure, Comedy]            8.2   \n",
      "544       NaN            25.0        [Drama, Fantasy, Horror]            8.1   \n",
      "983       NaN            32.0                 [Comedy, Drama]            8.5   \n",
      "\n",
      "      numVotes     score  \n",
      "68        3820  9.313018  \n",
      "1150     10104  9.267724  \n",
      "236       1411  9.086360  \n",
      "1181      1536  9.010465  \n",
      "326       1859  8.947969  \n",
      "71        1428  8.814769  \n",
      "1045      2740  8.803998  \n",
      "1234      1753  8.753837  \n",
      "1087     12056  8.580700  \n",
      "1054      2495  8.510566  \n",
      "448       1343  8.350100  \n",
      "189        330  8.236692  \n",
      "624        401  8.236496  \n",
      "973       2791  8.233549  \n",
      "1281       396  8.232140  \n",
      "49         263  8.208016  \n",
      "151        437  8.189351  \n",
      "357        289  8.182349  \n",
      "1217       566  8.103559  \n",
      "1344       812  8.094829  \n",
      "314       2766  8.042350  \n",
      "1242      1931  8.019061  \n",
      "790        823  8.011364  \n",
      "544       1559  8.001297  \n",
      "983        275  7.960580  \n"
     ]
    }
   ],
   "source": [
    "# simple recommender system\n",
    "\n",
    "def simple_recommender(df, top=100):\n",
    "    df = df.loc[df['numVotes'] >= m]\n",
    "    df = df.sort_values(by='score', ascending=False) #urutkan dari nilai tertinggi ke terendah\n",
    "    \n",
    "    #Ambil data 100 teratas\n",
    "    df = df[:top]\n",
    "    return df\n",
    "    \n",
    "#Ambil data 25 teratas     \n",
    "print(simple_recommender(movie_rating_df, top=25))"
   ]
  },
  {
   "cell_type": "code",
   "execution_count": 22,
   "id": "4edcd762",
   "metadata": {},
   "outputs": [
    {
     "name": "stdout",
     "output_type": "stream",
     "text": [
      "         tconst  titleType                         primaryTitle  \\\n",
      "68    tt4110822  tvEpisode                        S.O.S. Part 2   \n",
      "1181  tt7697962  tvEpisode  Chapter Seventeen: The Missionaries   \n",
      "326   tt7124590  tvEpisode  Chapter Thirty-Four: Judgment Night   \n",
      "71    tt8399426  tvEpisode                              Savages   \n",
      "1234  tt2843830  tvEpisode                                VIII.   \n",
      "...         ...        ...                                  ...   \n",
      "1138  tt1126516      movie              Money Hai Toh Honey Hai   \n",
      "1197  tt3016748      movie                       Jacob's Ladder   \n",
      "1208  tt3044882      movie                                Nasha   \n",
      "846   tt0488164      movie                          Moscow Zero   \n",
      "90    tt0299981    tvMovie               Highlander: The Source   \n",
      "\n",
      "                            originalTitle  isAdult  startYear  endYear  \\\n",
      "68                          S.O.S. Part 2        0     2015.0      NaN   \n",
      "1181  Chapter Seventeen: The Missionaries        0     2019.0      NaN   \n",
      "326   Chapter Thirty-Four: Judgment Night        0     2018.0      NaN   \n",
      "71                                Savages        0     2018.0      NaN   \n",
      "1234                                VIII.        0     2014.0      NaN   \n",
      "...                                   ...      ...        ...      ...   \n",
      "1138              Money Hai Toh Honey Hai        0     2008.0      NaN   \n",
      "1197                       Jacob's Ladder        0     2019.0      NaN   \n",
      "1208                                Nasha        0     2013.0      NaN   \n",
      "846                           Moscow Zero        0     2006.0      NaN   \n",
      "90                 Highlander: The Source        0     2007.0      NaN   \n",
      "\n",
      "      runtimeMinutes                      genres  averageRating  numVotes  \\\n",
      "68              43.0  [Action, Adventure, Drama]            9.4      3820   \n",
      "1181            54.0    [Drama, Fantasy, Horror]            9.2      1536   \n",
      "326             42.0     [Crime, Drama, Mystery]            9.1      1859   \n",
      "71              58.0   [Drama, Fantasy, Romance]            9.0      1428   \n",
      "1234            57.0          [Adventure, Drama]            8.9      1753   \n",
      "...              ...                         ...            ...       ...   \n",
      "1138           138.0             [Comedy, Drama]            2.8       527   \n",
      "1197            89.0    [Drama, Horror, Mystery]            3.4      2065   \n",
      "1208           122.0           [Drama, Thriller]            3.2      1132   \n",
      "846             82.0     [Action, Drama, Horror]            3.0      1620   \n",
      "90              86.0  [Action, Adventure, Drama]            3.1      8855   \n",
      "\n",
      "         score  \n",
      "68    9.313018  \n",
      "1181  9.010465  \n",
      "326   8.947969  \n",
      "71    8.814769  \n",
      "1234  8.753837  \n",
      "...        ...  \n",
      "1138  3.634839  \n",
      "1197  3.614402  \n",
      "1208  3.593611  \n",
      "846   3.299714  \n",
      "90    3.157023  \n",
      "\n",
      "[80 rows x 12 columns]\n"
     ]
    }
   ],
   "source": [
    "# simple recommender dengan user preferens\n",
    "df = movie_rating_df.copy()\n",
    "\n",
    "def user_prefer_recommender(df, ask_adult, ask_start_year, ask_genre, top=100):\n",
    "    if ask_adult.lower() == 'yes':\n",
    "        df = df.loc[df['isAdult'] == 1]\n",
    "    elif ask_adult.lower() == 'no':\n",
    "        df = df.loc[df['isAdult'] == 0]\n",
    "\n",
    "    df = df.loc[df['startYear'] >= int(ask_start_year)]\n",
    "\n",
    "    if ask_genre.lower() == 'all':\n",
    "        df = df\n",
    "    else:\n",
    "        def filter_genre(x):\n",
    "            if ask_genre.lower() in str(x).lower():\n",
    "                return True\n",
    "            else:\n",
    "                return False\n",
    "        df = df.loc[df['genres'].apply(lambda x: filter_genre(x))]\n",
    "\n",
    "    df = df.loc[df['numVotes'] >= m]\n",
    "    df = df.sort_values(by='score', ascending=False)\n",
    "    \n",
    "    df = df[:top]\n",
    "    return df\n",
    "\n",
    "print(user_prefer_recommender(df, ask_adult = 'no', \n",
    "                              ask_start_year = 2000, \n",
    "                              ask_genre = 'drama'))"
   ]
  },
  {
   "cell_type": "code",
   "execution_count": null,
   "id": "88dddf14",
   "metadata": {},
   "outputs": [],
   "source": []
  }
 ],
 "metadata": {
  "kernelspec": {
   "display_name": "Python 3 (ipykernel)",
   "language": "python",
   "name": "python3"
  },
  "language_info": {
   "codemirror_mode": {
    "name": "ipython",
    "version": 3
   },
   "file_extension": ".py",
   "mimetype": "text/x-python",
   "name": "python",
   "nbconvert_exporter": "python",
   "pygments_lexer": "ipython3",
   "version": "3.9.7"
  }
 },
 "nbformat": 4,
 "nbformat_minor": 5
}
